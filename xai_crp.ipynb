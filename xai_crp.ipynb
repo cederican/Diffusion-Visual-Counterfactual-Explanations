{
 "cells": [
  {
   "cell_type": "code",
   "execution_count": 28,
   "metadata": {},
   "outputs": [
    {
     "name": "stderr",
     "output_type": "stream",
     "text": [
      "/home/dai/GPU-Student-2/Cederic/anaconda3/envs/diffcounter/lib/python3.10/site-packages/torchvision/models/_utils.py:135: UserWarning: Using 'weights' as positional parameter(s) is deprecated since 0.13 and may be removed in the future. Please use keyword parameter(s) instead.\n",
      "  warnings.warn(\n",
      "/home/dai/GPU-Student-2/Cederic/anaconda3/envs/diffcounter/lib/python3.10/site-packages/torchvision/models/_utils.py:223: UserWarning: Arguments other than a weight enum or `None` for 'weights' are deprecated since 0.13 and may be removed in the future. The current behavior is equivalent to passing `weights=VGG16_BN_Weights.IMAGENET1K_V1`. You can also use `weights=VGG16_BN_Weights.DEFAULT` to get the most up-to-date weights.\n",
      "  warnings.warn(msg)\n"
     ]
    },
    {
     "name": "stdout",
     "output_type": "stream",
     "text": [
      "True\n"
     ]
    },
    {
     "data": {
      "image/png": "[encoded data removed]",
      "text/plain": [
       "<PIL.Image.Image image mode=P size=224x224 at 0x7FDDCC7B5330>"
      ]
     },
     "execution_count": 28,
     "metadata": {},
     "output_type": "execute_result"
    }
   ],
   "source": [
    "import torch\n",
    "from torchvision.models.vgg import vgg16_bn\n",
    "import torchvision.transforms as T\n",
    "from PIL import Image\n",
    "from zennit.canonizers import SequentialMergeBatchNorm\n",
    "from zennit.composites import EpsilonPlusFlat\n",
    "\n",
    "device = \"cuda:0\" if torch.cuda.is_available() else \"cpu\"\n",
    "\n",
    "model = vgg16_bn(True).to(device)\n",
    "model.eval()\n",
    "\n",
    "canonizers = [SequentialMergeBatchNorm()]\n",
    "composite = EpsilonPlusFlat(canonizers)\n",
    "\n",
    "image = Image.open(\"images/lizard.jpg\")\n",
    "image\n",
    "\n",
    "import torchvision\n",
    "from crp.concepts import ChannelConcept\n",
    "from crp.helper import get_layer_names\n",
    "from crp.attribution import CondAttribution\n",
    "from crp.visualization import FeatureVisualization\n",
    "#from tutorials.VGG16_ImageNet.download_imagenet import download\n",
    "\n",
    "cc = ChannelConcept()\n",
    "\n",
    "layer_names = get_layer_names(model, [torch.nn.Conv2d, torch.nn.Linear])\n",
    "layer_map = {layer : cc for layer in layer_names}\n",
    "\n",
    "attribution = CondAttribution(model)\n",
    "\n",
    "# separate normalization from resizing for plotting purposes later\n",
    "transform = T.Compose([T.Resize(256), T.CenterCrop(224), T.ToTensor()])\n",
    "preprocessing =  T.Normalize(mean=[0.485, 0.456, 0.406], std=[0.229, 0.224, 0.225])\n",
    "\n",
    "data_path = None #TODO fill or run download below\n",
    "\n",
    "if data_path is None:\n",
    "    # download ImageNet validation set\n",
    "    data_path = \"ImageNet_data\"\n",
    "    download(data_path)\n",
    "    \n",
    "# apply no normalization here!\n",
    "imagenet_data = torchvision.datasets.ImageNet(data_path, transform=transform, split=\"val\")  \n",
    "\n",
    "fv_path = \"VGG16_ImageNet\"\n",
    "fv = FeatureVisualization(attribution, imagenet_data, layer_map, preprocess_fn=preprocessing, path=fv_path)\n",
    "\n",
    "saved_files = fv.run(composite, 0, len(imagenet_data), 32, 100)\n",
    "\n",
    "%matplotlib inline\n",
    "from crp.image import plot_grid\n",
    "\n",
    "ref_c = fv.get_max_reference([469, 35, 89, 316, 161], \"features.40\", \"relevance\", (0, 8))\n",
    "\n",
    "plot_grid(ref_c, figsize=(6, 5), padding=False)"
   ]
  }
 ],
 "metadata": {
  "kernelspec": {
   "display_name": "diffcounter",
   "language": "python",
   "name": "python3"
  },
  "language_info": {
   "codemirror_mode": {
    "name": "ipython",
    "version": 3
   },
   "file_extension": ".py",
   "mimetype": "text/x-python",
   "name": "python",
   "nbconvert_exporter": "python",
   "pygments_lexer": "ipython3",
   "version": "3.10.14"
  }
 },
 "nbformat": 4,
 "nbformat_minor": 2
}
